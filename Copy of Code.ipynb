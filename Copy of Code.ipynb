{
 "cells": [
  {
   "cell_type": "markdown",
   "metadata": {
    "id": "2mqdQdCaiPh1"
   },
   "source": [
    "# This code is for HOS using multilingual Embeddings for three Dravidian CodeMix languages"
   ]
  },
  {
   "cell_type": "code",
   "execution_count": null,
   "metadata": {
    "colab": {
     "base_uri": "https://localhost:8080/"
    },
    "executionInfo": {
     "elapsed": 22098,
     "status": "ok",
     "timestamp": 1734373982430,
     "user": {
      "displayName": "Sahayatrika",
      "userId": "17491921574162570429"
     },
     "user_tz": -330
    },
    "id": "CFh-nk2XXVHU",
    "outputId": "3d79d39a-8566-4fc7-e36e-43acb0cec016"
   },
   "outputs": [],
   "source": [
    "from google.colab import drive\n",
    "drive.mount('/content/drive')"
   ]
  },
  {
   "cell_type": "markdown",
   "metadata": {
    "id": "_wR5TQM-iPh2"
   },
   "source": [
    "## Packages to be installed"
   ]
  },
  {
   "cell_type": "code",
   "execution_count": null,
   "metadata": {
    "colab": {
     "base_uri": "https://localhost:8080/"
    },
    "executionInfo": {
     "elapsed": 4315,
     "status": "ok",
     "timestamp": 1734373947819,
     "user": {
      "displayName": "Sahayatrika",
      "userId": "17491921574162570429"
     },
     "user_tz": -330
    },
    "id": "ONfzHIzSiPh3",
    "outputId": "897f4fad-1823-4973-bde6-faba1c676f78"
   },
   "outputs": [],
   "source": [
    "%pip install -U sentence-transformers"
   ]
  },
  {
   "cell_type": "markdown",
   "metadata": {
    "id": "Y4G2M_sziPh3"
   },
   "source": [
    "## Import the required packages"
   ]
  },
  {
   "cell_type": "code",
   "execution_count": null,
   "metadata": {
    "id": "fSGTnHxAiPh3"
   },
   "outputs": [],
   "source": [
    "# packages\n",
    "import pandas as pd \n",
    "from collections import Counter\n",
    "from sentence_transformers import SentenceTransformer \n",
    "import numpy as np\n",
    "import sklearn\n",
    "from sklearn.metrics import (\n",
    "    precision_score, \n",
    "    recall_score, \n",
    "    f1_score, \n",
    "    accuracy_score, \n",
    "    mean_squared_error, \n",
    "    mean_absolute_error,\n",
    "    classification_report,\n",
    "    confusion_matrix\n",
    ")"
   ]
  },
  {
   "cell_type": "markdown",
   "metadata": {
    "id": "Mlfpr-F3iPh4"
   },
   "source": [
    "### Read the data"
   ]
  },
  {
   "cell_type": "code",
   "execution_count": 5,
   "metadata": {
    "executionInfo": {
     "elapsed": 963,
     "status": "ok",
     "timestamp": 1734374036457,
     "user": {
      "displayName": "Sahayatrika",
      "userId": "17491921574162570429"
     },
     "user_tz": -330
    },
    "id": "VPvIJVQLiPh4"
   },
   "outputs": [],
   "source": [
    "train = pd.read_csv(\"/content/drive/MyDrive/Colab Notebooks/reduced dataset/tiny/tiny train.csv\")\n",
    "test = pd.read_csv(\"/content/drive/MyDrive/Colab Notebooks/reduced dataset/tiny/tiny test.csv\",header=None)"
   ]
  },
  {
   "cell_type": "markdown",
   "metadata": {
    "id": "kCojJuxZiPh4"
   },
   "source": [
    "### Sperate the train and test senetnecs and labels to a list"
   ]
  },
  {
   "cell_type": "code",
   "execution_count": null,
   "metadata": {
    "colab": {
     "base_uri": "https://localhost:8080/"
    },
    "collapsed": true,
    "executionInfo": {
     "elapsed": 443,
     "status": "ok",
     "timestamp": 1734374073781,
     "user": {
      "displayName": "Sahayatrika",
      "userId": "17491921574162570429"
     },
     "user_tz": -330
    },
    "id": "MLypCA2TiPh4",
    "outputId": "176bbe84-2764-431b-d729-abe668c959bc"
   },
   "outputs": [],
   "source": [
    "train_sent_m=[]\n",
    "train_label_m=[]\n",
    "test_sent_m = []\n",
    "test_label_m = []\n",
    "print(train.columns)\n",
    "print(test.columns)\n",
    "for i in train['0']:\n",
    "    train_sent_m.append(i.split('\\t')[0])\n",
    "    train_label_m.append(i.split('\\t')[0])\n",
    "\n",
    "for i in test[0]:\n",
    "    test_sent_m.append(i.split('\\t')[0])\n",
    "    test_label_m.append(i.split('\\t')[0])"
   ]
  },
  {
   "cell_type": "code",
   "execution_count": null,
   "metadata": {
    "colab": {
     "base_uri": "https://localhost:8080/"
    },
    "executionInfo": {
     "elapsed": 499,
     "status": "ok",
     "timestamp": 1734374080075,
     "user": {
      "displayName": "Sahayatrika",
      "userId": "17491921574162570429"
     },
     "user_tz": -330
    },
    "id": "gHRS8OFT3aEi",
    "outputId": "c793876a-7171-4d30-d8e8-ec4ede2abad4"
   },
   "outputs": [],
   "source": [
    "print(f\"Train sentences: {len(train_sent_m)}, Train labels: {len(train_label_m)}\")\n",
    "print(f\"Test sentences: {len(test_sent_m)}, Test labels: {len(test_label_m)}\")\n"
   ]
  },
  {
   "cell_type": "markdown",
   "metadata": {
    "id": "KcM-VcHpiPh4"
   },
   "source": [
    "### Label Encoding"
   ]
  },
  {
   "cell_type": "code",
   "execution_count": 11,
   "metadata": {
    "executionInfo": {
     "elapsed": 1065,
     "status": "ok",
     "timestamp": 1734374087335,
     "user": {
      "displayName": "Sahayatrika",
      "userId": "17491921574162570429"
     },
     "user_tz": -330
    },
    "id": "F7O1xrRviPh4"
   },
   "outputs": [],
   "source": [
    "from sklearn import preprocessing\n",
    "le = preprocessing.LabelEncoder()\n",
    "train_labels_encoded = le.fit_transform(train_label_m)\n",
    "dev_labels_encoded = le.fit_transform(test_label_m)"
   ]
  },
  {
   "cell_type": "markdown",
   "metadata": {
    "id": "yUqgqYRmiPh4"
   },
   "source": [
    "### Get Embeddings"
   ]
  },
  {
   "cell_type": "code",
   "execution_count": null,
   "metadata": {
    "colab": {
     "base_uri": "https://localhost:8080/",
     "height": 324,
     "referenced_widgets": [
      "579d0a23c44d48f4a7a12103823e2a89",
      "916e066ce39c4bbe84039d15e2530ac8",
      "689904f5089c43be8c2ca8893017aefa",
      "e3d84625e57c40558eee55a87a7563af",
      "d764bd58664848e4bd665d86a6f5932d",
      "24689b37013d48c783e88c76422b1f10",
      "1441254eaa1a45f38e3d38f651a4c60d",
      "5b8e3ba0b2794cd1a7717b4a11bfaa5e",
      "667d73b0286149eab089626ac282fc98",
      "ff25953e74d34e0d9d78472e4dd92948",
      "a8c820109289409e87e918c74f867445",
      "8695911af55048daa30659c66fa7bf44",
      "f4d003109d434a969f98b586e9ada8ae",
      "c30bf4c7df5a4c28a2aad764203c7fae",
      "19a96819a1c24c248d169df90605c99f",
      "86d0daeaa33a445f9ab295a416646ccc",
      "822e9bb214d64b209fd65a038a918a36",
      "0c3b61a37cad41e9bfcf03c1210eab84",
      "2585e8c4fe85406499e16cb81cce84dc",
      "5276936f4ed349d5aa25625ec3d6058f",
      "bb0b0d7b54be4aa5bda64de11f6ffed4",
      "5fd991897a3b4cee942cb4c971bb6685",
      "6e92830ddd8641a997517c25b06cb623",
      "109b8ac264e741dd8bfa7c681013e37e",
      "5c4691d944f64886ace280571f8126bd",
      "f8dd1015016247f996c77afd5a171af2",
      "22f367d94823466187b96b1ba9506f34",
      "11bf0740f79d45cd8139dfb3de745a7c",
      "df2194ed52aa409f912c16a1c11bb8b8",
      "c0b36f69c255441b9ccc8e25ef587c39",
      "d482f07c992741079e3b3d68af6d8384",
      "4f55bc70452d42638b388c245abf2411",
      "673e56f2417f4a7b8e643e351f5d8f91",
      "2c769dc5c22f4c918e8f1fead37969bb",
      "ad31ac2ed422429e8bbe876a9a04ef5d",
      "25b77986728f4dd18b377e9e8463b335",
      "7d25c3f4a1c240b4a967f7df95943ecc",
      "08f31a3d77f74575b55f7861e3e522e8",
      "a4539d89a6974dab84d4e479c9e32f75",
      "c784c2115b304d69b02a293d5fd0ba80",
      "71d08ae38222485196245aba2d0457fa",
      "f46c57b5937442ccb0f9b9b596be6883",
      "1ebb29c670894cb9bd6b9f179fbd3faf",
      "c6eaa412f4ec4ef4bf4b719a2ce9a8d4",
      "e233e0d1b2b5437fb42120e1db25dba0",
      "eabdd034a8d34b5abf098e6317423503",
      "cd46262ba7c248bdaa5d1fbdf7316799",
      "6e6ab4f50d874d56b84c4506f44ee79b",
      "40c27b10a41842038f69758728828dea",
      "89f1788e10174b21923b9b6684610955",
      "bdb909c3895948e8a213cbbf988fd0f5",
      "f2fd83f8f6474094a7e05648bed8bda5",
      "4f4b246c1b094495aa24827d64a76409",
      "e28e8139d9674091905f7dc3d51ec18e",
      "7d3a47782d394448b28742b21dcf4a10"
     ]
    },
    "executionInfo": {
     "elapsed": 14140,
     "status": "ok",
     "timestamp": 1734374104344,
     "user": {
      "displayName": "Sahayatrika",
      "userId": "17491921574162570429"
     },
     "user_tz": -330
    },
    "id": "MDoLez1viPh5",
    "outputId": "5d7cc21d-e6d6-4009-f0ff-5b1404c30e70"
   },
   "outputs": [],
   "source": [
    "trans_model = SentenceTransformer('bert-base-multilingual-cased')\n",
    "# here other multilingual embeddings can be loaded"
   ]
  },
  {
   "cell_type": "code",
   "execution_count": 13,
   "metadata": {
    "executionInfo": {
     "elapsed": 6199,
     "status": "ok",
     "timestamp": 1734374114021,
     "user": {
      "displayName": "Sahayatrika",
      "userId": "17491921574162570429"
     },
     "user_tz": -330
    },
    "id": "So-QhlwxiPh5"
   },
   "outputs": [],
   "source": [
    "train_sentence_embeddings = trans_model.encode(train_sent_m)\n",
    "dev_sentence_embeddings = trans_model.encode(test_sent_m)"
   ]
  },
  {
   "cell_type": "code",
   "execution_count": null,
   "metadata": {
    "id": "65wad2P3W9SO"
   },
   "outputs": [],
   "source": []
  },
  {
   "cell_type": "markdown",
   "metadata": {
    "id": "a3e5LH3riPh5"
   },
   "source": [
    "### Weight calculation"
   ]
  },
  {
   "cell_type": "code",
   "execution_count": null,
   "metadata": {
    "colab": {
     "base_uri": "https://localhost:8080/",
     "height": 315
    },
    "executionInfo": {
     "elapsed": 457,
     "status": "error",
     "timestamp": 1734374464444,
     "user": {
      "displayName": "Sahayatrika",
      "userId": "17491921574162570429"
     },
     "user_tz": -330
    },
    "id": "Eu6nWsCMiPh5",
    "outputId": "362ed114-8d6d-4e71-da3d-c9f0116d940d"
   },
   "outputs": [],
   "source": [
    "from sklearn.utils.class_weight import compute_class_weight\n",
    "import numpy as np\n",
    "\n",
    "# Correct usage\n",
    "class_weights = compute_class_weight(\n",
    "    class_weight='balanced',  # Strategy\n",
    "    classes=np.unique(train_label_m),  # Unique class labels\n",
    "    y=train_label_m  # Training labels\n",
    ")\n",
    "\n",
    "print(\"Class Weights:\", class_weights)"
   ]
  },
  {
   "cell_type": "markdown",
   "metadata": {
    "id": "WEDb0JgYiPh5"
   },
   "source": [
    "### Classification"
   ]
  },
  {
   "cell_type": "markdown",
   "metadata": {
    "id": "0s77oEKViPh5"
   },
   "source": [
    "### Logistic regression"
   ]
  },
  {
   "cell_type": "code",
   "execution_count": null,
   "metadata": {
    "colab": {
     "base_uri": "https://localhost:8080/",
     "height": 370
    },
    "executionInfo": {
     "elapsed": 505,
     "status": "error",
     "timestamp": 1734374381367,
     "user": {
      "displayName": "Sahayatrika",
      "userId": "17491921574162570429"
     },
     "user_tz": -330
    },
    "id": "0JgABxDUiPh5",
    "outputId": "449867e5-756a-425e-f6b3-99f272ce44e7"
   },
   "outputs": [],
   "source": [
    "from sklearn.linear_model import LogisticRegression\n",
    "from sklearn.metrics import accuracy_score, recall_score, precision_score, f1_score, classification_report\n",
    "from sklearn.preprocessing import LabelEncoder\n",
    "import pandas as pd\n",
    "\n",
    "# Ensure LabelEncoder is fit on all unique labels across train and test sets\n",
    "all_labels = list(set(train_label_m) | set(test_label_m))  # Union of train and test labels\n",
    "le = LabelEncoder()\n",
    "le.fit(all_labels)\n",
    "\n",
    "# Encode train and test labels\n",
    "train_labels_encoded = le.transform(train_label_m)\n",
    "dev_labels_encoded = le.transform(test_label_m)\n",
    "\n",
    "# Define class weights\n",
    "class_weight = {0: 0.22607331, 1: 23.54117647, 2: 13.69505703, 3: 17.07014218, 4: 2.484}\n",
    "\n",
    "# Train Logistic Regression model\n",
    "model = LogisticRegression(class_weight=class_weight, max_iter=10000)\n",
    "model.fit(train_sentence_embeddings, train_labels_encoded)\n",
    "\n",
    "# Make predictions\n",
    "predicted = model.predict(dev_sentence_embeddings)\n",
    "\n",
    "# Evaluate metrics\n",
    "print(\"Eval Scores:\")\n",
    "accuracy = accuracy_score(dev_labels_encoded, predicted)\n",
    "recall = recall_score(dev_labels_encoded, predicted, average=\"macro\", zero_division=1)\n",
    "precision = precision_score(dev_labels_encoded, predicted, average=\"macro\", zero_division=1)\n",
    "f1 = f1_score(dev_labels_encoded, predicted, average=\"macro\", zero_division=1)\n",
    "\n",
    "print(\"Macro Metrics:\")\n",
    "print(f\"Accuracy: {accuracy:.3f}\")\n",
    "print(f\"Precision: {precision:.3f}\")\n",
    "print(f\"Recall: {recall:.3f}\")\n",
    "print(f\"F1 Score: {f1:.3f}\")\n",
    "\n",
    "# Generate classification report\n",
    "unique_labels = sorted(set(dev_labels_encoded))  # Ensure we match actual labels present in the dataset\n",
    "target_names = le.inverse_transform(unique_labels)  # Map encoded labels back to original labels\n",
    "\n",
    "print(\"\\nClassification Report:\")\n",
    "print(classification_report(dev_labels_encoded, predicted, labels=unique_labels, target_names=target_names, zero_division=1))\n",
    "\n",
    "# Save predictions\n",
    "predictions = list(le.inverse_transform(predicted))  # Decode predictions back to original labels\n",
    "classified_df = pd.DataFrame({'tweets': test_sent_m, 'actual_label': test_label_m, 'predictions': predictions})\n",
    "classified_df.to_csv('Logistic_regression.csv', index=False)\n",
    "print(\"Predictions saved to 'Logistic_regression.csv'\")\n"
   ]
  },
  {
   "cell_type": "markdown",
   "metadata": {},
   "source": [
    "ValueError                                Traceback (most recent call last)\n",
    "<ipython-input-18-2e0501ab8853> in <cell line: 20>()\n",
    "     18 # Train Logistic Regression model\n",
    "     19 model = LogisticRegression(class_weight=class_weight, max_iter=10000)\n",
    "---> 20 model.fit(train_sentence_embeddings, train_labels_encoded)\n",
    "     21 \n",
    "     22 # Make predictions\n",
    "\n",
    "8 frames\n",
    "/usr/local/lib/python3.10/dist-packages/sklearn/utils/class_weight.py in compute_class_weight(class_weight, classes, y)\n",
    "     85         if unweighted_classes and n_weighted_classes != len(class_weight):\n",
    "     86             unweighted_classes_user_friendly_str = np.array(unweighted_classes).tolist()\n",
    "---> 87             raise ValueError(\n",
    "     88                 f\"The classes, {unweighted_classes_user_friendly_str}, are not in\"\n",
    "     89                 \" class_weight\"\n",
    "\n",
    "ValueError: The classes, [6, 7, 8, 9, 12, 14, 16, 17, 18, 23, 24, 27, 30, 33], are not in class_weight\n"
   ]
  },
  {
   "cell_type": "markdown",
   "metadata": {
    "id": "wh2nA1QWiPh5"
   },
   "source": [
    "### Confusion Matrix"
   ]
  },
  {
   "cell_type": "code",
   "execution_count": null,
   "metadata": {
    "colab": {
     "base_uri": "https://localhost:8080/",
     "height": 219
    },
    "executionInfo": {
     "elapsed": 444,
     "status": "error",
     "timestamp": 1734374137863,
     "user": {
      "displayName": "Sahayatrika",
      "userId": "17491921574162570429"
     },
     "user_tz": -330
    },
    "id": "fgg60SqQiPh5",
    "outputId": "0b8edc90-c8a7-4146-aac7-108acb6bd5fd"
   },
   "outputs": [],
   "source": [
    "import seaborn as sn\n",
    "import matplotlib.pyplot as plt\n",
    "from sklearn.metrics import confusion_matrix\n",
    "import numpy as np\n",
    "import pandas as pd\n",
    "\n",
    "# Assuming 'expected' and 'predicted' are your true and predicted labels\n",
    "cfm = confusion_matrix(expected, predicted)\n",
    "\n",
    "# Get the unique classes from the actual and predicted labels\n",
    "classes = np.unique(np.concatenate((expected, predicted)))\n",
    "\n",
    "# Convert confusion matrix to a DataFrame for better visualization\n",
    "df_cfm = pd.DataFrame(cfm, index=classes, columns=classes)\n",
    "\n",
    "# Plot confusion matrix using seaborn heatmap\n",
    "plt.figure(figsize=(7, 5))\n",
    "cfm_plot = sn.heatmap(df_cfm, annot=True, fmt='g', cmap='Blues')\n",
    "\n",
    "# Save the plot as a PNG file\n",
    "cfm_plot.figure.savefig(\"cfm_LR.png\")\n",
    "\n",
    "# Show the plot\n",
    "plt.show()\n"
   ]
  },
  {
   "cell_type": "markdown",
   "metadata": {
    "id": "zQZSlbnniPh5"
   },
   "source": [
    "### Naive Bayse"
   ]
  },
  {
   "cell_type": "code",
   "execution_count": null,
   "metadata": {
    "id": "k9F14eHXiPh6"
   },
   "outputs": [],
   "source": [
    "# NAive Baise\n",
    "from sklearn.naive_bayes import GaussianNB\n",
    "from sklearn.naive_bayes import ComplementNB\n",
    "model = GaussianNB()\n",
    "model.fit(train_sentence_embeddings, train_labels_encoded)\n",
    "\n",
    "\n",
    "# make predictions\n",
    "expected = dev_labels_encoded\n",
    "predicted = model.predict(dev_sentence_embeddings)\n",
    "\n",
    "\n",
    "print(\"eval scores\")\n",
    "accuracy = accuracy_score(expected, predicted)\n",
    "recall = recall_score(expected, predicted , average=\"macro\")\n",
    "precision = precision_score(expected, predicted , average=\"macro\")\n",
    "f1 = f1_score(expected, predicted, average=\"macro\")\n",
    "\n",
    "print(\"macro\")\n",
    "print(\"accuracy\")\n",
    "print(\"%.3f\" %accuracy)\n",
    "print(\"precision\")\n",
    "print(\"%.3f\" %precision)\n",
    "print(\"racall\")\n",
    "print(\"%.3f\" %recall)\n",
    "print(\"f1score\")\n",
    "print(\"%.3f\" %f1)\n",
    "\n",
    "\n",
    "\n",
    "print(\"Classification report\")\n",
    "import sklearn\n",
    "from sklearn.metrics import classification_report\n",
    "sklearn.metrics.classification_report(expected, predicted)\n",
    "target_names = ['Not_offensive', 'Offensive_Targeted_Insult_Group', 'Offensive_Targeted_Insult_Individual', 'Offensive_Untargetede', 'not-malayalam']\n",
    "print(classification_report(expected, predicted, target_names=target_names))\n",
    "\n",
    "\n",
    "#Saving the predictions\n",
    "import csv\n",
    "predictions = list(le.inverse_transform(predicted))\n",
    "classified_df = pd.DataFrame( {'tweets': test_sent_m, 'actual_label': test_label_m, 'predictions': predictions})\n",
    "classified_df.to_csv('Naive_baise.csv')\n",
    "print(\"prediction saved\")"
   ]
  },
  {
   "cell_type": "markdown",
   "metadata": {
    "id": "Y1WhA7i-iPh6"
   },
   "source": [
    "## Confusion matrix"
   ]
  },
  {
   "cell_type": "code",
   "execution_count": null,
   "metadata": {
    "id": "GIucF_o3iPh6"
   },
   "outputs": [],
   "source": [
    "from sklearn.metrics import plot_confusion_matrix\n",
    "import seaborn as sn\n",
    "import matplotlib.pyplot as plt\n",
    "from sklearn.metrics import classification_report, confusion_matrix\n",
    "cfm= confusion_matrix(expected, predicted)\n",
    "classes = np.unique(train_label_m)\n",
    "\n",
    "df_cfm = pd.DataFrame(cfm, index = classes, columns = classes)\n",
    "plt.figure(figsize = (7,5))\n",
    "cfm_plot = sn.heatmap(df_cfm, annot=True,  fmt='g')\n",
    "cfm_plot.figure.savefig(\"cfm_NB.png\")"
   ]
  },
  {
   "cell_type": "markdown",
   "metadata": {
    "id": "e3_hzryZiPh6"
   },
   "source": [
    "## Random Forest"
   ]
  },
  {
   "cell_type": "code",
   "execution_count": null,
   "metadata": {
    "id": "i-pA0nxJiPh6"
   },
   "outputs": [],
   "source": [
    "#random forest\n",
    "from sklearn.ensemble import RandomForestClassifier\n",
    "class_weight = {0:0.22607331, 1:23.54117647 ,2:13.69505703 ,3:17.07014218 ,4:2.484}\n",
    "model = RandomForestClassifier(n_estimators=100, class_weight=class_weight)\n",
    "model = model.fit(train_sentence_embeddings, train_labels_encoded)\n",
    "\n",
    "# make predictions\n",
    "expected = dev_labels_encoded\n",
    "predicted = model.predict(dev_sentence_embeddings)\n",
    "\n",
    "\n",
    "print(\"eval scores\")\n",
    "accuracy = accuracy_score(expected, predicted)\n",
    "recall = recall_score(expected, predicted , average=\"macro\")\n",
    "precision = precision_score(expected, predicted , average=\"macro\")\n",
    "f1 = f1_score(expected, predicted, average=\"macro\")\n",
    "\n",
    "print(\"macro\")\n",
    "print(\"accuracy\")\n",
    "print(\"%.3f\" %accuracy)\n",
    "print(\"precision\")\n",
    "print(\"%.3f\" %precision)\n",
    "print(\"racall\")\n",
    "print(\"%.3f\" %recall)\n",
    "print(\"f1score\")\n",
    "print(\"%.3f\" %f1)\n",
    "\n",
    "\n",
    "\n",
    "print(\"Classification report\")\n",
    "import sklearn\n",
    "from sklearn.metrics import classification_report\n",
    "sklearn.metrics.classification_report(expected, predicted)\n",
    "target_names = ['Not_offensive', 'Offensive_Targeted_Insult_Group', 'Offensive_Targeted_Insult_Individual', 'Offensive_Untargetede', 'not-malayalam']\n",
    "print(classification_report(expected, predicted, target_names=target_names))\n",
    "\n",
    "\n",
    "#Saving the predictions\n",
    "import csv\n",
    "predictions = list(le.inverse_transform(predicted))\n",
    "classified_df = pd.DataFrame( {'tweets': test_sent_m, 'actual_label': test_label_m, 'predictions': predictions})\n",
    "classified_df.to_csv('RF.csv')\n",
    "print(\"prediction saved\")"
   ]
  },
  {
   "cell_type": "markdown",
   "metadata": {
    "id": "qe1Z5C5IiPh6"
   },
   "source": [
    "## Confusion Matrix"
   ]
  },
  {
   "cell_type": "code",
   "execution_count": null,
   "metadata": {
    "id": "5ZEaELpWiPh6"
   },
   "outputs": [],
   "source": [
    "from sklearn.metrics import plot_confusion_matrix\n",
    "import seaborn as sn\n",
    "import matplotlib.pyplot as plt\n",
    "from sklearn.metrics import classification_report, confusion_matrix\n",
    "cfm= confusion_matrix(expected, predicted)\n",
    "classes = np.unique(train_label_m)\n",
    "\n",
    "df_cfm = pd.DataFrame(cfm, index = classes, columns = classes)\n",
    "plt.figure(figsize = (7,5))\n",
    "cfm_plot = sn.heatmap(df_cfm, annot=True,  fmt='g')\n",
    "cfm_plot.figure.savefig(\"cfm_RF.png\")"
   ]
  },
  {
   "cell_type": "markdown",
   "metadata": {
    "id": "dWJEhh1uiPh6"
   },
   "source": [
    "## SVM RBF"
   ]
  },
  {
   "cell_type": "code",
   "execution_count": null,
   "metadata": {
    "id": "3glHkGnTiPh6"
   },
   "outputs": [],
   "source": [
    "# SVM rbf\n",
    "from sklearn.svm import SVC\n",
    "from sklearn import svm\n",
    "class_weight = {0:0.22607331, 1:23.54117647 ,2:13.69505703 ,3:17.07014218 ,4:2.484}\n",
    "model = svm.SVC(kernel='rbf',C = 1000, class_weight =class_weight)\n",
    "model = model.fit(train_sentence_embeddings, train_labels_encoded)\n",
    "\n",
    "# make predictions\n",
    "expected = dev_labels_encoded\n",
    "predicted = model.predict(dev_sentence_embeddings)\n",
    "\n",
    "\n",
    "print(\"eval scores\")\n",
    "accuracy = accuracy_score(expected, predicted)\n",
    "recall = recall_score(expected, predicted , average=\"macro\")\n",
    "precision = precision_score(expected, predicted , average=\"macro\")\n",
    "f1 = f1_score(expected, predicted, average=\"macro\")\n",
    "\n",
    "print(\"macro\")\n",
    "print(\"accuracy\")\n",
    "print(\"%.3f\" %accuracy)\n",
    "print(\"precision\")\n",
    "print(\"%.3f\" %precision)\n",
    "print(\"racall\")\n",
    "print(\"%.3f\" %recall)\n",
    "print(\"f1score\")\n",
    "print(\"%.3f\" %f1)\n",
    "\n",
    "\n",
    "\n",
    "print(\"Classification report\")\n",
    "import sklearn\n",
    "from sklearn.metrics import classification_report\n",
    "sklearn.metrics.classification_report(expected, predicted)\n",
    "target_names = ['Not_offensive', 'Offensive_Targeted_Insult_Group', 'Offensive_Targeted_Insult_Individual', 'Offensive_Untargetede', 'not-malayalam']\n",
    "print(classification_report(expected, predicted, target_names=target_names))\n",
    "\n",
    "\n",
    "#Saving the predictions\n",
    "import csv\n",
    "predictions = list(le.inverse_transform(predicted))\n",
    "classified_df = pd.DataFrame( {'tweets': test_sent_m, 'actual_label': test_label_m, 'predictions': predictions})\n",
    "classified_df.to_csv('SVM_RBF.csv')\n",
    "print(\"prediction saved\")\n"
   ]
  },
  {
   "cell_type": "markdown",
   "metadata": {
    "id": "yzyM2cWriPh6"
   },
   "source": [
    "## Confusion Matrix"
   ]
  },
  {
   "cell_type": "code",
   "execution_count": null,
   "metadata": {
    "id": "DSKlElWdiPh7"
   },
   "outputs": [],
   "source": [
    "from sklearn.metrics import plot_confusion_matrix\n",
    "import seaborn as sn\n",
    "import matplotlib.pyplot as plt\n",
    "from sklearn.metrics import classification_report, confusion_matrix\n",
    "cfm= confusion_matrix(expected, predicted)\n",
    "classes = np.unique(train_label_m)\n",
    "\n",
    "df_cfm = pd.DataFrame(cfm, index = classes, columns = classes)\n",
    "plt.figure(figsize = (7,5))\n",
    "cfm_plot = sn.heatmap(df_cfm, annot=True,  fmt='g')\n",
    "cfm_plot.figure.savefig(\"cfm_SVM_rbf.png\")"
   ]
  },
  {
   "cell_type": "markdown",
   "metadata": {
    "id": "9J1SIcXciPh7"
   },
   "source": [
    "## SVM Poly"
   ]
  },
  {
   "cell_type": "code",
   "execution_count": null,
   "metadata": {
    "id": "moaDhVqNiPh7"
   },
   "outputs": [],
   "source": [
    "# SVM poly\n",
    "from sklearn.svm import SVC\n",
    "from sklearn import svm\n",
    "model = svm.SVC(kernel='poly',C = 1000)\n",
    "model = model.fit(train_sentence_embeddings, train_labels_encoded)\n",
    "\n",
    "# make predictions\n",
    "expected = dev_labels_encoded\n",
    "predicted = model.predict(dev_sentence_embeddings)\n",
    "\n",
    "\n",
    "print(\"eval scores\")\n",
    "accuracy = accuracy_score(expected, predicted)\n",
    "recall = recall_score(expected, predicted , average=\"macro\")\n",
    "precision = precision_score(expected, predicted , average=\"macro\")\n",
    "f1 = f1_score(expected, predicted, average=\"macro\")\n",
    "\n",
    "\n",
    "print(\"macro\")\n",
    "print(\"accuracy\")\n",
    "print(\"%.3f\" %accuracy)\n",
    "print(\"precision\")\n",
    "print(\"%.3f\" %precision)\n",
    "print(\"racall\")\n",
    "print(\"%.3f\" %recall)\n",
    "print(\"f1score\")\n",
    "print(\"%.3f\" %f1)\n",
    "\n",
    "\n",
    "\n",
    "print(\"Classification report\")\n",
    "import sklearn\n",
    "from sklearn.metrics import classification_report\n",
    "sklearn.metrics.classification_report(expected, predicted)\n",
    "target_names = ['Not_offensive', 'Offensive_Targeted_Insult_Group', 'Offensive_Targeted_Insult_Individual', 'Offensive_Untargetede', 'not-malayalam']\n",
    "print(classification_report(expected, predicted, target_names=target_names))\n",
    "\n",
    "\n",
    "#Saving the predictions\n",
    "import csv\n",
    "predictions = list(le.inverse_transform(predicted))\n",
    "classified_df = pd.DataFrame( {'tweets': test_sent_m, 'actual_label': test_label_m, 'predictions': predictions})\n",
    "classified_df.to_csv('SVM_poly_labse.csv')\n",
    "print(\"prediction saved\")\n",
    "\n",
    "#Save model\n",
    "import pickle\n",
    "# Save the trained model as a pickle string.\n",
    "pkl_filename = \"poly_labse.pkl\"\n",
    "with open(pkl_filename, 'wb') as file:\n",
    "    pickle.dump(model, file)\n",
    "file.close()"
   ]
  },
  {
   "cell_type": "markdown",
   "metadata": {
    "id": "ROLgQT30iPh7"
   },
   "source": [
    "## Confusion Matrix"
   ]
  },
  {
   "cell_type": "code",
   "execution_count": null,
   "metadata": {
    "id": "xUXjpotpiPh7"
   },
   "outputs": [],
   "source": [
    "from sklearn.metrics import plot_confusion_matrix\n",
    "import seaborn as sn\n",
    "import matplotlib.pyplot as plt\n",
    "from sklearn.metrics import classification_report, confusion_matrix\n",
    "cfm= confusion_matrix(expected, predicted)\n",
    "classes = np.unique(train_label_m)\n",
    "\n",
    "df_cfm = pd.DataFrame(cfm, index = classes, columns = classes)\n",
    "plt.figure(figsize = (7,5))\n",
    "cfm_plot = sn.heatmap(df_cfm, annot =True,  fmt='g')\n",
    "cfm_plot.figure.savefig(\"cfm_SVM_poly_labse.png\")"
   ]
  },
  {
   "cell_type": "markdown",
   "metadata": {
    "id": "C83eTVd7iPh7"
   },
   "source": [
    "## SVM Linear"
   ]
  },
  {
   "cell_type": "code",
   "execution_count": null,
   "metadata": {
    "id": "x5A5B5TSiPh7"
   },
   "outputs": [],
   "source": [
    "# SVM Linear\n",
    "from sklearn.svm import SVC\n",
    "from sklearn import svm\n",
    "model = svm.SVC(kernel='linear',C = 10)\n",
    "model = model.fit(train_sentence_embeddings, train_labels_encoded)\n",
    "\n",
    "# make predictions\n",
    "expected = dev_labels_encoded\n",
    "predicted = model.predict(dev_sentence_embeddings)\n",
    "\n",
    "\n",
    "print(\"eval scores\")\n",
    "accuracy = accuracy_score(expected, predicted)\n",
    "recall = recall_score(expected, predicted , average=\"macro\")\n",
    "precision = precision_score(expected, predicted , average=\"macro\")\n",
    "f1 = f1_score(expected, predicted, average=\"macro\")\n",
    "\n",
    "print(\"macro\")\n",
    "print(\"accuracy\")\n",
    "print(\"%.3f\" %accuracy)\n",
    "print(\"precision\")\n",
    "print(\"%.3f\" %precision)\n",
    "print(\"racall\")\n",
    "print(\"%.3f\" %recall)\n",
    "print(\"f1score\")\n",
    "print(\"%.3f\" %f1)\n",
    "\n",
    "\n",
    "\n",
    "print(\"Classification report\")\n",
    "import sklearn\n",
    "from sklearn.metrics import classification_report\n",
    "sklearn.metrics.classification_report(expected, predicted)\n",
    "target_names = ['Not_offensive', 'Offensive_Targeted_Insult_Group', 'Offensive_Targeted_Insult_Individual', 'Offensive_Untargetede', 'not-malayalam']\n",
    "print(classification_report(expected, predicted, target_names=target_names))\n",
    "\n",
    "\n",
    "#Saving the predictions\n",
    "import csv\n",
    "predictions = list(le.inverse_transform(predicted))\n",
    "classified_df = pd.DataFrame( {'tweets': test_sent_m, 'actual_label': test_label_m, 'predictions': predictions})\n",
    "classified_df.to_csv('SVM_linear_labse.csv')\n",
    "print(\"prediction saved\")\n",
    "\n",
    "#Save model\n",
    "import pickle\n",
    "# Save the trained model as a pickle string.\n",
    "pkl_filename = \"linear_labse.pkl\"\n",
    "with open(pkl_filename, 'wb') as file:\n",
    "    pickle.dump(model, file)\n",
    "file.close()"
   ]
  },
  {
   "cell_type": "markdown",
   "metadata": {
    "id": "r8B7i1VviPh-"
   },
   "source": [
    "## Confusion Matrix"
   ]
  },
  {
   "cell_type": "code",
   "execution_count": null,
   "metadata": {
    "id": "0AHxwduhiPh_"
   },
   "outputs": [],
   "source": [
    "from sklearn.metrics import plot_confusion_matrix\n",
    "import seaborn as sn\n",
    "import matplotlib.pyplot as plt\n",
    "from sklearn.metrics import classification_report, confusion_matrix\n",
    "cfm= confusion_matrix(expected, predicted)\n",
    "classes = np.unique(train_label_m)\n",
    "\n",
    "df_cfm = pd.DataFrame(cfm, index = classes, columns = classes)\n",
    "plt.figure(figsize = (7,5))\n",
    "cfm_plot = sn.heatmap(df_cfm, annot =True,  fmt='g')\n",
    "cfm_plot.figure.savefig(\"cfm_SVM_linear_labse.png\")"
   ]
  },
  {
   "cell_type": "markdown",
   "metadata": {
    "id": "6XpSRlqziPh_"
   },
   "source": [
    "## Adaboost"
   ]
  },
  {
   "cell_type": "code",
   "execution_count": null,
   "metadata": {
    "id": "Bh9rCPCHiPh_"
   },
   "outputs": [],
   "source": [
    "from sklearn.ensemble import AdaBoostClassifier\n",
    "model = AdaBoostClassifier(n_estimators=100)\n",
    "model.fit(train_sentence_embeddings, train_labels_encoded)\n",
    "\n",
    "# make predictions\n",
    "expected = dev_labels_encoded\n",
    "predicted = model.predict(dev_sentence_embeddings)\n",
    "\n",
    "print(\"eval scores\")\n",
    "accuracy = accuracy_score(expected, predicted)\n",
    "recall = recall_score(expected, predicted , average=\"macro\")\n",
    "precision = precision_score(expected, predicted , average=\"macro\")\n",
    "f1 = f1_score(expected, predicted, average=\"macro\")\n",
    "\n",
    "print(\"macro\")\n",
    "print(\"accuracy\")\n",
    "print(\"%.3f\" %accuracy)\n",
    "print(\"precision\")\n",
    "print(\"%.3f\" %precision)\n",
    "print(\"racall\")\n",
    "print(\"%.3f\" %recall)\n",
    "print(\"f1score\")\n",
    "print(\"%.3f\" %f1)\n",
    "\n",
    "\n",
    "\n",
    "print(\"Classification report\")\n",
    "import sklearn\n",
    "from sklearn.metrics import classification_report\n",
    "sklearn.metrics.classification_report(expected, predicted)\n",
    "target_names = ['Not_offensive', 'Offensive_Targeted_Insult_Group', 'Offensive_Targeted_Insult_Individual', 'Offensive_Untargetede', 'not-malayalam']\n",
    "print(classification_report(expected, predicted, target_names=target_names))\n",
    "\n",
    "\n",
    "#Saving the predictions\n",
    "import csv\n",
    "predictions = list(le.inverse_transform(predicted))\n",
    "classified_df = pd.DataFrame( {'tweets': test_sent_m, 'actual_label': test_label_m, 'predictions': predictions})\n",
    "classified_df.to_csv('Adaboost.csv')\n",
    "print(\"prediction saved\")"
   ]
  },
  {
   "cell_type": "markdown",
   "metadata": {
    "id": "rpih4wz-iPh_"
   },
   "source": [
    "## Confusion matrix"
   ]
  },
  {
   "cell_type": "code",
   "execution_count": null,
   "metadata": {
    "id": "AjxBQBZWiPh_"
   },
   "outputs": [],
   "source": [
    "from sklearn.metrics import plot_confusion_matrix\n",
    "import seaborn as sn\n",
    "import matplotlib.pyplot as plt\n",
    "from sklearn.metrics import classification_report, confusion_matrix\n",
    "cfm= confusion_matrix(expected, predicted)\n",
    "classes = np.unique(train_label_m)\n",
    "\n",
    "df_cfm = pd.DataFrame(cfm, index = classes, columns = classes)\n",
    "plt.figure(figsize = (7,5))\n",
    "cfm_plot = sn.heatmap(df_cfm, annot=True,  fmt='g')\n",
    "cfm_plot.figure.savefig(\"cfm_adaboost.png\")"
   ]
  },
  {
   "cell_type": "markdown",
   "metadata": {
    "id": "apTDk_u9iPh_"
   },
   "source": [
    "## KNN"
   ]
  },
  {
   "cell_type": "code",
   "execution_count": null,
   "metadata": {
    "id": "KfiOqQkliPh_"
   },
   "outputs": [],
   "source": [
    "from sklearn.neighbors import KNeighborsClassifier\n",
    "model = KNeighborsClassifier(weights = 'distance')\n",
    "model.fit(train_sentence_embeddings, train_labels_encoded)\n",
    "\n",
    "\n",
    "# make predictions\n",
    "expected = dev_labels_encoded\n",
    "predicted = model.predict(dev_sentence_embeddings)\n",
    "\n",
    "\n",
    "print(\"eval scores\")\n",
    "accuracy = accuracy_score(expected, predicted)\n",
    "recall = recall_score(expected, predicted , average=\"macro\")\n",
    "precision = precision_score(expected, predicted , average=\"macro\")\n",
    "f1 = f1_score(expected, predicted, average=\"macro\")\n",
    "\n",
    "print(\"macro\")\n",
    "print(\"accuracy\")\n",
    "print(\"%.3f\" %accuracy)\n",
    "print(\"precision\")\n",
    "print(\"%.3f\" %precision)\n",
    "print(\"racall\")\n",
    "print(\"%.3f\" %recall)\n",
    "print(\"f1score\")\n",
    "print(\"%.3f\" %f1)\n",
    "\n",
    "\n",
    "\n",
    "print(\"Classification report\")\n",
    "import sklearn\n",
    "from sklearn.metrics import classification_report\n",
    "sklearn.metrics.classification_report(expected, predicted)\n",
    "target_names = ['Not_offensive', 'Offensive_Targeted_Insult_Group', 'Offensive_Targeted_Insult_Individual', 'Offensive_Untargetede', 'not-malayalam']\n",
    "print(classification_report(expected, predicted, target_names=target_names))\n",
    "\n",
    "\n",
    "#Saving the predictions\n",
    "import csv\n",
    "predictions = list(le.inverse_transform(predicted))\n",
    "classified_df = pd.DataFrame( {'tweets': test_sent_m, 'actual_label': test_label_m, 'predictions': predictions})\n",
    "classified_df.to_csv('KNN.csv')\n",
    "print(\"prediction saved\")\n"
   ]
  },
  {
   "cell_type": "markdown",
   "metadata": {
    "id": "vEgclvKIiPiA"
   },
   "source": [
    "## Confusion Matrix"
   ]
  },
  {
   "cell_type": "code",
   "execution_count": null,
   "metadata": {
    "id": "A-SMOCBIiPiA"
   },
   "outputs": [],
   "source": [
    "from sklearn.metrics import plot_confusion_matrix\n",
    "import seaborn as sn\n",
    "import matplotlib.pyplot as plt\n",
    "from sklearn.metrics import classification_report, confusion_matrix\n",
    "cfm= confusion_matrix(expected, predicted)\n",
    "classes = np.unique(train_label_m)\n",
    "\n",
    "df_cfm = pd.DataFrame(cfm, index = classes, columns = classes)\n",
    "plt.figure(figsize = (7,5))\n",
    "cfm_plot = sn.heatmap(df_cfm, annot=True,  fmt='g')\n",
    "cfm_plot.figure.savefig(\"cfm_KNN.png\")"
   ]
  },
  {
   "cell_type": "markdown",
   "metadata": {
    "id": "8o-_30-aiPiA"
   },
   "source": [
    "## Decision Tree"
   ]
  },
  {
   "cell_type": "code",
   "execution_count": null,
   "metadata": {
    "id": "77hqolHwiPiA"
   },
   "outputs": [],
   "source": [
    "# Decision Tree\n",
    "from sklearn.tree import DecisionTreeClassifier\n",
    "class_weight = {0:0.22607331, 1:23.54117647 ,2:13.69505703 ,3:17.07014218 ,4:2.484}\n",
    "model = DecisionTreeClassifier(class_weight=class_weight)\n",
    "model.fit(train_sentence_embeddings, train_labels_encoded)\n",
    "\n",
    "\n",
    "# make predictions\n",
    "expected = dev_labels_encoded\n",
    "predicted = model.predict(dev_sentence_embeddings)\n",
    "\n",
    "\n",
    "print(\"eval scores\")\n",
    "accuracy = accuracy_score(expected, predicted)\n",
    "recall = recall_score(expected, predicted , average=\"macro\")\n",
    "precision = precision_score(expected, predicted , average=\"macro\")\n",
    "f1 = f1_score(expected, predicted, average=\"macro\")\n",
    "\n",
    "print(\"macro\")\n",
    "print(\"accuracy\")\n",
    "print(\"%.3f\" %accuracy)\n",
    "print(\"precision\")\n",
    "print(\"%.3f\" %precision)\n",
    "print(\"racall\")\n",
    "print(\"%.3f\" %recall)\n",
    "print(\"f1score\")\n",
    "print(\"%.3f\" %f1)\n",
    "\n",
    "\n",
    "\n",
    "print(\"Classification report\")\n",
    "import sklearn\n",
    "from sklearn.metrics import classification_report\n",
    "sklearn.metrics.classification_report(expected, predicted)\n",
    "target_names = ['Not_offensive', 'Offensive_Targeted_Insult_Group', 'Offensive_Targeted_Insult_Individual', 'Offensive_Untargetede', 'not-malayalam']\n",
    "print(classification_report(expected, predicted, target_names=target_names))\n",
    "\n",
    "\n",
    "#Saving the predictions\n",
    "import csv\n",
    "predictions = list(le.inverse_transform(predicted))\n",
    "classified_df = pd.DataFrame( {'tweets': test_sent_m, 'actual_label': test_label_m, 'predictions': predictions})\n",
    "classified_df.to_csv('DT.csv')\n",
    "print(\"prediction saved\")\n"
   ]
  },
  {
   "cell_type": "code",
   "execution_count": null,
   "metadata": {
    "id": "2l-mocq7iPiA"
   },
   "outputs": [],
   "source": []
  },
  {
   "cell_type": "code",
   "execution_count": null,
   "metadata": {
    "id": "8Az4mcIxiPiA"
   },
   "outputs": [],
   "source": []
  }
 ],
 "metadata": {
  "colab": {
   "provenance": [
    {
     "file_id": "https://github.com/Sreelakshmi-k/Hate-speech-Detection-from-CodeMix-Dravidian-Languages/blob/main/Code.ipynb",
     "timestamp": 1733657535930
    }
   ]
  },
  "kernelspec": {
   "display_name": "Python 3",
   "language": "python",
   "name": "python3"
  },
  "language_info": {
   "codemirror_mode": {
    "name": "ipython",
    "version": 3
   },
   "file_extension": ".py",
   "mimetype": "text/x-python",
   "name": "python",
   "nbconvert_exporter": "python",
   "pygments_lexer": "ipython3",
   "version": "3.12.8"
  },
  "widgets": {
   "application/vnd.jupyter.widget-state+json": {
    "08f31a3d77f74575b55f7861e3e522e8": {
     "model_module": "@jupyter-widgets/base",
     "model_module_version": "1.2.0",
     "model_name": "LayoutModel",
     "state": {
      "_model_module": "@jupyter-widgets/base",
      "_model_module_version": "1.2.0",
      "_model_name": "LayoutModel",
      "_view_count": null,
      "_view_module": "@jupyter-widgets/base",
      "_view_module_version": "1.2.0",
      "_view_name": "LayoutView",
      "align_content": null,
      "align_items": null,
      "align_self": null,
      "border": null,
      "bottom": null,
      "display": null,
      "flex": null,
      "flex_flow": null,
      "grid_area": null,
      "grid_auto_columns": null,
      "grid_auto_flow": null,
      "grid_auto_rows": null,
      "grid_column": null,
      "grid_gap": null,
      "grid_row": null,
      "grid_template_areas": null,
      "grid_template_columns": null,
      "grid_template_rows": null,
      "height": null,
      "justify_content": null,
      "justify_items": null,
      "left": null,
      "margin": null,
      "max_height": null,
      "max_width": null,
      "min_height": null,
      "min_width": null,
      "object_fit": null,
      "object_position": null,
      "order": null,
      "overflow": null,
      "overflow_x": null,
      "overflow_y": null,
      "padding": null,
      "right": null,
      "top": null,
      "visibility": null,
      "width": null
     }
    },
    "0c3b61a37cad41e9bfcf03c1210eab84": {
     "model_module": "@jupyter-widgets/controls",
     "model_module_version": "1.5.0",
     "model_name": "DescriptionStyleModel",
     "state": {
      "_model_module": "@jupyter-widgets/controls",
      "_model_module_version": "1.5.0",
      "_model_name": "DescriptionStyleModel",
      "_view_count": null,
      "_view_module": "@jupyter-widgets/base",
      "_view_module_version": "1.2.0",
      "_view_name": "StyleView",
      "description_width": ""
     }
    },
    "109b8ac264e741dd8bfa7c681013e37e": {
     "model_module": "@jupyter-widgets/controls",
     "model_module_version": "1.5.0",
     "model_name": "HTMLModel",
     "state": {
      "_dom_classes": [],
      "_model_module": "@jupyter-widgets/controls",
      "_model_module_version": "1.5.0",
      "_model_name": "HTMLModel",
      "_view_count": null,
      "_view_module": "@jupyter-widgets/controls",
      "_view_module_version": "1.5.0",
      "_view_name": "HTMLView",
      "description": "",
      "description_tooltip": null,
      "layout": "IPY_MODEL_11bf0740f79d45cd8139dfb3de745a7c",
      "placeholder": "​",
      "style": "IPY_MODEL_df2194ed52aa409f912c16a1c11bb8b8",
      "value": "tokenizer_config.json: 100%"
     }
    },
    "11bf0740f79d45cd8139dfb3de745a7c": {
     "model_module": "@jupyter-widgets/base",
     "model_module_version": "1.2.0",
     "model_name": "LayoutModel",
     "state": {
      "_model_module": "@jupyter-widgets/base",
      "_model_module_version": "1.2.0",
      "_model_name": "LayoutModel",
      "_view_count": null,
      "_view_module": "@jupyter-widgets/base",
      "_view_module_version": "1.2.0",
      "_view_name": "LayoutView",
      "align_content": null,
      "align_items": null,
      "align_self": null,
      "border": null,
      "bottom": null,
      "display": null,
      "flex": null,
      "flex_flow": null,
      "grid_area": null,
      "grid_auto_columns": null,
      "grid_auto_flow": null,
      "grid_auto_rows": null,
      "grid_column": null,
      "grid_gap": null,
      "grid_row": null,
      "grid_template_areas": null,
      "grid_template_columns": null,
      "grid_template_rows": null,
      "height": null,
      "justify_content": null,
      "justify_items": null,
      "left": null,
      "margin": null,
      "max_height": null,
      "max_width": null,
      "min_height": null,
      "min_width": null,
      "object_fit": null,
      "object_position": null,
      "order": null,
      "overflow": null,
      "overflow_x": null,
      "overflow_y": null,
      "padding": null,
      "right": null,
      "top": null,
      "visibility": null,
      "width": null
     }
    },
    "1441254eaa1a45f38e3d38f651a4c60d": {
     "model_module": "@jupyter-widgets/controls",
     "model_module_version": "1.5.0",
     "model_name": "DescriptionStyleModel",
     "state": {
      "_model_module": "@jupyter-widgets/controls",
      "_model_module_version": "1.5.0",
      "_model_name": "DescriptionStyleModel",
      "_view_count": null,
      "_view_module": "@jupyter-widgets/base",
      "_view_module_version": "1.2.0",
      "_view_name": "StyleView",
      "description_width": ""
     }
    },
    "19a96819a1c24c248d169df90605c99f": {
     "model_module": "@jupyter-widgets/controls",
     "model_module_version": "1.5.0",
     "model_name": "HTMLModel",
     "state": {
      "_dom_classes": [],
      "_model_module": "@jupyter-widgets/controls",
      "_model_module_version": "1.5.0",
      "_model_name": "HTMLModel",
      "_view_count": null,
      "_view_module": "@jupyter-widgets/controls",
      "_view_module_version": "1.5.0",
      "_view_name": "HTMLView",
      "description": "",
      "description_tooltip": null,
      "layout": "IPY_MODEL_bb0b0d7b54be4aa5bda64de11f6ffed4",
      "placeholder": "​",
      "style": "IPY_MODEL_5fd991897a3b4cee942cb4c971bb6685",
      "value": " 714M/714M [00:08&lt;00:00, 123MB/s]"
     }
    },
    "1ebb29c670894cb9bd6b9f179fbd3faf": {
     "model_module": "@jupyter-widgets/base",
     "model_module_version": "1.2.0",
     "model_name": "LayoutModel",
     "state": {
      "_model_module": "@jupyter-widgets/base",
      "_model_module_version": "1.2.0",
      "_model_name": "LayoutModel",
      "_view_count": null,
      "_view_module": "@jupyter-widgets/base",
      "_view_module_version": "1.2.0",
      "_view_name": "LayoutView",
      "align_content": null,
      "align_items": null,
      "align_self": null,
      "border": null,
      "bottom": null,
      "display": null,
      "flex": null,
      "flex_flow": null,
      "grid_area": null,
      "grid_auto_columns": null,
      "grid_auto_flow": null,
      "grid_auto_rows": null,
      "grid_column": null,
      "grid_gap": null,
      "grid_row": null,
      "grid_template_areas": null,
      "grid_template_columns": null,
      "grid_template_rows": null,
      "height": null,
      "justify_content": null,
      "justify_items": null,
      "left": null,
      "margin": null,
      "max_height": null,
      "max_width": null,
      "min_height": null,
      "min_width": null,
      "object_fit": null,
      "object_position": null,
      "order": null,
      "overflow": null,
      "overflow_x": null,
      "overflow_y": null,
      "padding": null,
      "right": null,
      "top": null,
      "visibility": null,
      "width": null
     }
    },
    "22f367d94823466187b96b1ba9506f34": {
     "model_module": "@jupyter-widgets/base",
     "model_module_version": "1.2.0",
     "model_name": "LayoutModel",
     "state": {
      "_model_module": "@jupyter-widgets/base",
      "_model_module_version": "1.2.0",
      "_model_name": "LayoutModel",
      "_view_count": null,
      "_view_module": "@jupyter-widgets/base",
      "_view_module_version": "1.2.0",
      "_view_name": "LayoutView",
      "align_content": null,
      "align_items": null,
      "align_self": null,
      "border": null,
      "bottom": null,
      "display": null,
      "flex": null,
      "flex_flow": null,
      "grid_area": null,
      "grid_auto_columns": null,
      "grid_auto_flow": null,
      "grid_auto_rows": null,
      "grid_column": null,
      "grid_gap": null,
      "grid_row": null,
      "grid_template_areas": null,
      "grid_template_columns": null,
      "grid_template_rows": null,
      "height": null,
      "justify_content": null,
      "justify_items": null,
      "left": null,
      "margin": null,
      "max_height": null,
      "max_width": null,
      "min_height": null,
      "min_width": null,
      "object_fit": null,
      "object_position": null,
      "order": null,
      "overflow": null,
      "overflow_x": null,
      "overflow_y": null,
      "padding": null,
      "right": null,
      "top": null,
      "visibility": null,
      "width": null
     }
    },
    "24689b37013d48c783e88c76422b1f10": {
     "model_module": "@jupyter-widgets/base",
     "model_module_version": "1.2.0",
     "model_name": "LayoutModel",
     "state": {
      "_model_module": "@jupyter-widgets/base",
      "_model_module_version": "1.2.0",
      "_model_name": "LayoutModel",
      "_view_count": null,
      "_view_module": "@jupyter-widgets/base",
      "_view_module_version": "1.2.0",
      "_view_name": "LayoutView",
      "align_content": null,
      "align_items": null,
      "align_self": null,
      "border": null,
      "bottom": null,
      "display": null,
      "flex": null,
      "flex_flow": null,
      "grid_area": null,
      "grid_auto_columns": null,
      "grid_auto_flow": null,
      "grid_auto_rows": null,
      "grid_column": null,
      "grid_gap": null,
      "grid_row": null,
      "grid_template_areas": null,
      "grid_template_columns": null,
      "grid_template_rows": null,
      "height": null,
      "justify_content": null,
      "justify_items": null,
      "left": null,
      "margin": null,
      "max_height": null,
      "max_width": null,
      "min_height": null,
      "min_width": null,
      "object_fit": null,
      "object_position": null,
      "order": null,
      "overflow": null,
      "overflow_x": null,
      "overflow_y": null,
      "padding": null,
      "right": null,
      "top": null,
      "visibility": null,
      "width": null
     }
    },
    "2585e8c4fe85406499e16cb81cce84dc": {
     "model_module": "@jupyter-widgets/base",
     "model_module_version": "1.2.0",
     "model_name": "LayoutModel",
     "state": {
      "_model_module": "@jupyter-widgets/base",
      "_model_module_version": "1.2.0",
      "_model_name": "LayoutModel",
      "_view_count": null,
      "_view_module": "@jupyter-widgets/base",
      "_view_module_version": "1.2.0",
      "_view_name": "LayoutView",
      "align_content": null,
      "align_items": null,
      "align_self": null,
      "border": null,
      "bottom": null,
      "display": null,
      "flex": null,
      "flex_flow": null,
      "grid_area": null,
      "grid_auto_columns": null,
      "grid_auto_flow": null,
      "grid_auto_rows": null,
      "grid_column": null,
      "grid_gap": null,
      "grid_row": null,
      "grid_template_areas": null,
      "grid_template_columns": null,
      "grid_template_rows": null,
      "height": null,
      "justify_content": null,
      "justify_items": null,
      "left": null,
      "margin": null,
      "max_height": null,
      "max_width": null,
      "min_height": null,
      "min_width": null,
      "object_fit": null,
      "object_position": null,
      "order": null,
      "overflow": null,
      "overflow_x": null,
      "overflow_y": null,
      "padding": null,
      "right": null,
      "top": null,
      "visibility": null,
      "width": null
     }
    },
    "25b77986728f4dd18b377e9e8463b335": {
     "model_module": "@jupyter-widgets/controls",
     "model_module_version": "1.5.0",
     "model_name": "FloatProgressModel",
     "state": {
      "_dom_classes": [],
      "_model_module": "@jupyter-widgets/controls",
      "_model_module_version": "1.5.0",
      "_model_name": "FloatProgressModel",
      "_view_count": null,
      "_view_module": "@jupyter-widgets/controls",
      "_view_module_version": "1.5.0",
      "_view_name": "ProgressView",
      "bar_style": "success",
      "description": "",
      "description_tooltip": null,
      "layout": "IPY_MODEL_71d08ae38222485196245aba2d0457fa",
      "max": 995526,
      "min": 0,
      "orientation": "horizontal",
      "style": "IPY_MODEL_f46c57b5937442ccb0f9b9b596be6883",
      "value": 995526
     }
    },
    "2c769dc5c22f4c918e8f1fead37969bb": {
     "model_module": "@jupyter-widgets/controls",
     "model_module_version": "1.5.0",
     "model_name": "HBoxModel",
     "state": {
      "_dom_classes": [],
      "_model_module": "@jupyter-widgets/controls",
      "_model_module_version": "1.5.0",
      "_model_name": "HBoxModel",
      "_view_count": null,
      "_view_module": "@jupyter-widgets/controls",
      "_view_module_version": "1.5.0",
      "_view_name": "HBoxView",
      "box_style": "",
      "children": [
       "IPY_MODEL_ad31ac2ed422429e8bbe876a9a04ef5d",
       "IPY_MODEL_25b77986728f4dd18b377e9e8463b335",
       "IPY_MODEL_7d25c3f4a1c240b4a967f7df95943ecc"
      ],
      "layout": "IPY_MODEL_08f31a3d77f74575b55f7861e3e522e8"
     }
    },
    "40c27b10a41842038f69758728828dea": {
     "model_module": "@jupyter-widgets/base",
     "model_module_version": "1.2.0",
     "model_name": "LayoutModel",
     "state": {
      "_model_module": "@jupyter-widgets/base",
      "_model_module_version": "1.2.0",
      "_model_name": "LayoutModel",
      "_view_count": null,
      "_view_module": "@jupyter-widgets/base",
      "_view_module_version": "1.2.0",
      "_view_name": "LayoutView",
      "align_content": null,
      "align_items": null,
      "align_self": null,
      "border": null,
      "bottom": null,
      "display": null,
      "flex": null,
      "flex_flow": null,
      "grid_area": null,
      "grid_auto_columns": null,
      "grid_auto_flow": null,
      "grid_auto_rows": null,
      "grid_column": null,
      "grid_gap": null,
      "grid_row": null,
      "grid_template_areas": null,
      "grid_template_columns": null,
      "grid_template_rows": null,
      "height": null,
      "justify_content": null,
      "justify_items": null,
      "left": null,
      "margin": null,
      "max_height": null,
      "max_width": null,
      "min_height": null,
      "min_width": null,
      "object_fit": null,
      "object_position": null,
      "order": null,
      "overflow": null,
      "overflow_x": null,
      "overflow_y": null,
      "padding": null,
      "right": null,
      "top": null,
      "visibility": null,
      "width": null
     }
    },
    "4f4b246c1b094495aa24827d64a76409": {
     "model_module": "@jupyter-widgets/controls",
     "model_module_version": "1.5.0",
     "model_name": "ProgressStyleModel",
     "state": {
      "_model_module": "@jupyter-widgets/controls",
      "_model_module_version": "1.5.0",
      "_model_name": "ProgressStyleModel",
      "_view_count": null,
      "_view_module": "@jupyter-widgets/base",
      "_view_module_version": "1.2.0",
      "_view_name": "StyleView",
      "bar_color": null,
      "description_width": ""
     }
    },
    "4f55bc70452d42638b388c245abf2411": {
     "model_module": "@jupyter-widgets/base",
     "model_module_version": "1.2.0",
     "model_name": "LayoutModel",
     "state": {
      "_model_module": "@jupyter-widgets/base",
      "_model_module_version": "1.2.0",
      "_model_name": "LayoutModel",
      "_view_count": null,
      "_view_module": "@jupyter-widgets/base",
      "_view_module_version": "1.2.0",
      "_view_name": "LayoutView",
      "align_content": null,
      "align_items": null,
      "align_self": null,
      "border": null,
      "bottom": null,
      "display": null,
      "flex": null,
      "flex_flow": null,
      "grid_area": null,
      "grid_auto_columns": null,
      "grid_auto_flow": null,
      "grid_auto_rows": null,
      "grid_column": null,
      "grid_gap": null,
      "grid_row": null,
      "grid_template_areas": null,
      "grid_template_columns": null,
      "grid_template_rows": null,
      "height": null,
      "justify_content": null,
      "justify_items": null,
      "left": null,
      "margin": null,
      "max_height": null,
      "max_width": null,
      "min_height": null,
      "min_width": null,
      "object_fit": null,
      "object_position": null,
      "order": null,
      "overflow": null,
      "overflow_x": null,
      "overflow_y": null,
      "padding": null,
      "right": null,
      "top": null,
      "visibility": null,
      "width": null
     }
    },
    "5276936f4ed349d5aa25625ec3d6058f": {
     "model_module": "@jupyter-widgets/controls",
     "model_module_version": "1.5.0",
     "model_name": "ProgressStyleModel",
     "state": {
      "_model_module": "@jupyter-widgets/controls",
      "_model_module_version": "1.5.0",
      "_model_name": "ProgressStyleModel",
      "_view_count": null,
      "_view_module": "@jupyter-widgets/base",
      "_view_module_version": "1.2.0",
      "_view_name": "StyleView",
      "bar_color": null,
      "description_width": ""
     }
    },
    "579d0a23c44d48f4a7a12103823e2a89": {
     "model_module": "@jupyter-widgets/controls",
     "model_module_version": "1.5.0",
     "model_name": "HBoxModel",
     "state": {
      "_dom_classes": [],
      "_model_module": "@jupyter-widgets/controls",
      "_model_module_version": "1.5.0",
      "_model_name": "HBoxModel",
      "_view_count": null,
      "_view_module": "@jupyter-widgets/controls",
      "_view_module_version": "1.5.0",
      "_view_name": "HBoxView",
      "box_style": "",
      "children": [
       "IPY_MODEL_916e066ce39c4bbe84039d15e2530ac8",
       "IPY_MODEL_689904f5089c43be8c2ca8893017aefa",
       "IPY_MODEL_e3d84625e57c40558eee55a87a7563af"
      ],
      "layout": "IPY_MODEL_d764bd58664848e4bd665d86a6f5932d"
     }
    },
    "5b8e3ba0b2794cd1a7717b4a11bfaa5e": {
     "model_module": "@jupyter-widgets/base",
     "model_module_version": "1.2.0",
     "model_name": "LayoutModel",
     "state": {
      "_model_module": "@jupyter-widgets/base",
      "_model_module_version": "1.2.0",
      "_model_name": "LayoutModel",
      "_view_count": null,
      "_view_module": "@jupyter-widgets/base",
      "_view_module_version": "1.2.0",
      "_view_name": "LayoutView",
      "align_content": null,
      "align_items": null,
      "align_self": null,
      "border": null,
      "bottom": null,
      "display": null,
      "flex": null,
      "flex_flow": null,
      "grid_area": null,
      "grid_auto_columns": null,
      "grid_auto_flow": null,
      "grid_auto_rows": null,
      "grid_column": null,
      "grid_gap": null,
      "grid_row": null,
      "grid_template_areas": null,
      "grid_template_columns": null,
      "grid_template_rows": null,
      "height": null,
      "justify_content": null,
      "justify_items": null,
      "left": null,
      "margin": null,
      "max_height": null,
      "max_width": null,
      "min_height": null,
      "min_width": null,
      "object_fit": null,
      "object_position": null,
      "order": null,
      "overflow": null,
      "overflow_x": null,
      "overflow_y": null,
      "padding": null,
      "right": null,
      "top": null,
      "visibility": null,
      "width": null
     }
    },
    "5c4691d944f64886ace280571f8126bd": {
     "model_module": "@jupyter-widgets/controls",
     "model_module_version": "1.5.0",
     "model_name": "FloatProgressModel",
     "state": {
      "_dom_classes": [],
      "_model_module": "@jupyter-widgets/controls",
      "_model_module_version": "1.5.0",
      "_model_name": "FloatProgressModel",
      "_view_count": null,
      "_view_module": "@jupyter-widgets/controls",
      "_view_module_version": "1.5.0",
      "_view_name": "ProgressView",
      "bar_style": "success",
      "description": "",
      "description_tooltip": null,
      "layout": "IPY_MODEL_c0b36f69c255441b9ccc8e25ef587c39",
      "max": 49,
      "min": 0,
      "orientation": "horizontal",
      "style": "IPY_MODEL_d482f07c992741079e3b3d68af6d8384",
      "value": 49
     }
    },
    "5fd991897a3b4cee942cb4c971bb6685": {
     "model_module": "@jupyter-widgets/controls",
     "model_module_version": "1.5.0",
     "model_name": "DescriptionStyleModel",
     "state": {
      "_model_module": "@jupyter-widgets/controls",
      "_model_module_version": "1.5.0",
      "_model_name": "DescriptionStyleModel",
      "_view_count": null,
      "_view_module": "@jupyter-widgets/base",
      "_view_module_version": "1.2.0",
      "_view_name": "StyleView",
      "description_width": ""
     }
    },
    "667d73b0286149eab089626ac282fc98": {
     "model_module": "@jupyter-widgets/controls",
     "model_module_version": "1.5.0",
     "model_name": "ProgressStyleModel",
     "state": {
      "_model_module": "@jupyter-widgets/controls",
      "_model_module_version": "1.5.0",
      "_model_name": "ProgressStyleModel",
      "_view_count": null,
      "_view_module": "@jupyter-widgets/base",
      "_view_module_version": "1.2.0",
      "_view_name": "StyleView",
      "bar_color": null,
      "description_width": ""
     }
    },
    "673e56f2417f4a7b8e643e351f5d8f91": {
     "model_module": "@jupyter-widgets/controls",
     "model_module_version": "1.5.0",
     "model_name": "DescriptionStyleModel",
     "state": {
      "_model_module": "@jupyter-widgets/controls",
      "_model_module_version": "1.5.0",
      "_model_name": "DescriptionStyleModel",
      "_view_count": null,
      "_view_module": "@jupyter-widgets/base",
      "_view_module_version": "1.2.0",
      "_view_name": "StyleView",
      "description_width": ""
     }
    },
    "689904f5089c43be8c2ca8893017aefa": {
     "model_module": "@jupyter-widgets/controls",
     "model_module_version": "1.5.0",
     "model_name": "FloatProgressModel",
     "state": {
      "_dom_classes": [],
      "_model_module": "@jupyter-widgets/controls",
      "_model_module_version": "1.5.0",
      "_model_name": "FloatProgressModel",
      "_view_count": null,
      "_view_module": "@jupyter-widgets/controls",
      "_view_module_version": "1.5.0",
      "_view_name": "ProgressView",
      "bar_style": "success",
      "description": "",
      "description_tooltip": null,
      "layout": "IPY_MODEL_5b8e3ba0b2794cd1a7717b4a11bfaa5e",
      "max": 625,
      "min": 0,
      "orientation": "horizontal",
      "style": "IPY_MODEL_667d73b0286149eab089626ac282fc98",
      "value": 625
     }
    },
    "6e6ab4f50d874d56b84c4506f44ee79b": {
     "model_module": "@jupyter-widgets/controls",
     "model_module_version": "1.5.0",
     "model_name": "HTMLModel",
     "state": {
      "_dom_classes": [],
      "_model_module": "@jupyter-widgets/controls",
      "_model_module_version": "1.5.0",
      "_model_name": "HTMLModel",
      "_view_count": null,
      "_view_module": "@jupyter-widgets/controls",
      "_view_module_version": "1.5.0",
      "_view_name": "HTMLView",
      "description": "",
      "description_tooltip": null,
      "layout": "IPY_MODEL_e28e8139d9674091905f7dc3d51ec18e",
      "placeholder": "​",
      "style": "IPY_MODEL_7d3a47782d394448b28742b21dcf4a10",
      "value": " 1.96M/1.96M [00:00&lt;00:00, 33.3MB/s]"
     }
    },
    "6e92830ddd8641a997517c25b06cb623": {
     "model_module": "@jupyter-widgets/controls",
     "model_module_version": "1.5.0",
     "model_name": "HBoxModel",
     "state": {
      "_dom_classes": [],
      "_model_module": "@jupyter-widgets/controls",
      "_model_module_version": "1.5.0",
      "_model_name": "HBoxModel",
      "_view_count": null,
      "_view_module": "@jupyter-widgets/controls",
      "_view_module_version": "1.5.0",
      "_view_name": "HBoxView",
      "box_style": "",
      "children": [
       "IPY_MODEL_109b8ac264e741dd8bfa7c681013e37e",
       "IPY_MODEL_5c4691d944f64886ace280571f8126bd",
       "IPY_MODEL_f8dd1015016247f996c77afd5a171af2"
      ],
      "layout": "IPY_MODEL_22f367d94823466187b96b1ba9506f34"
     }
    },
    "71d08ae38222485196245aba2d0457fa": {
     "model_module": "@jupyter-widgets/base",
     "model_module_version": "1.2.0",
     "model_name": "LayoutModel",
     "state": {
      "_model_module": "@jupyter-widgets/base",
      "_model_module_version": "1.2.0",
      "_model_name": "LayoutModel",
      "_view_count": null,
      "_view_module": "@jupyter-widgets/base",
      "_view_module_version": "1.2.0",
      "_view_name": "LayoutView",
      "align_content": null,
      "align_items": null,
      "align_self": null,
      "border": null,
      "bottom": null,
      "display": null,
      "flex": null,
      "flex_flow": null,
      "grid_area": null,
      "grid_auto_columns": null,
      "grid_auto_flow": null,
      "grid_auto_rows": null,
      "grid_column": null,
      "grid_gap": null,
      "grid_row": null,
      "grid_template_areas": null,
      "grid_template_columns": null,
      "grid_template_rows": null,
      "height": null,
      "justify_content": null,
      "justify_items": null,
      "left": null,
      "margin": null,
      "max_height": null,
      "max_width": null,
      "min_height": null,
      "min_width": null,
      "object_fit": null,
      "object_position": null,
      "order": null,
      "overflow": null,
      "overflow_x": null,
      "overflow_y": null,
      "padding": null,
      "right": null,
      "top": null,
      "visibility": null,
      "width": null
     }
    },
    "7d25c3f4a1c240b4a967f7df95943ecc": {
     "model_module": "@jupyter-widgets/controls",
     "model_module_version": "1.5.0",
     "model_name": "HTMLModel",
     "state": {
      "_dom_classes": [],
      "_model_module": "@jupyter-widgets/controls",
      "_model_module_version": "1.5.0",
      "_model_name": "HTMLModel",
      "_view_count": null,
      "_view_module": "@jupyter-widgets/controls",
      "_view_module_version": "1.5.0",
      "_view_name": "HTMLView",
      "description": "",
      "description_tooltip": null,
      "layout": "IPY_MODEL_1ebb29c670894cb9bd6b9f179fbd3faf",
      "placeholder": "​",
      "style": "IPY_MODEL_c6eaa412f4ec4ef4bf4b719a2ce9a8d4",
      "value": " 996k/996k [00:00&lt;00:00, 3.87MB/s]"
     }
    },
    "7d3a47782d394448b28742b21dcf4a10": {
     "model_module": "@jupyter-widgets/controls",
     "model_module_version": "1.5.0",
     "model_name": "DescriptionStyleModel",
     "state": {
      "_model_module": "@jupyter-widgets/controls",
      "_model_module_version": "1.5.0",
      "_model_name": "DescriptionStyleModel",
      "_view_count": null,
      "_view_module": "@jupyter-widgets/base",
      "_view_module_version": "1.2.0",
      "_view_name": "StyleView",
      "description_width": ""
     }
    },
    "822e9bb214d64b209fd65a038a918a36": {
     "model_module": "@jupyter-widgets/base",
     "model_module_version": "1.2.0",
     "model_name": "LayoutModel",
     "state": {
      "_model_module": "@jupyter-widgets/base",
      "_model_module_version": "1.2.0",
      "_model_name": "LayoutModel",
      "_view_count": null,
      "_view_module": "@jupyter-widgets/base",
      "_view_module_version": "1.2.0",
      "_view_name": "LayoutView",
      "align_content": null,
      "align_items": null,
      "align_self": null,
      "border": null,
      "bottom": null,
      "display": null,
      "flex": null,
      "flex_flow": null,
      "grid_area": null,
      "grid_auto_columns": null,
      "grid_auto_flow": null,
      "grid_auto_rows": null,
      "grid_column": null,
      "grid_gap": null,
      "grid_row": null,
      "grid_template_areas": null,
      "grid_template_columns": null,
      "grid_template_rows": null,
      "height": null,
      "justify_content": null,
      "justify_items": null,
      "left": null,
      "margin": null,
      "max_height": null,
      "max_width": null,
      "min_height": null,
      "min_width": null,
      "object_fit": null,
      "object_position": null,
      "order": null,
      "overflow": null,
      "overflow_x": null,
      "overflow_y": null,
      "padding": null,
      "right": null,
      "top": null,
      "visibility": null,
      "width": null
     }
    },
    "8695911af55048daa30659c66fa7bf44": {
     "model_module": "@jupyter-widgets/controls",
     "model_module_version": "1.5.0",
     "model_name": "HBoxModel",
     "state": {
      "_dom_classes": [],
      "_model_module": "@jupyter-widgets/controls",
      "_model_module_version": "1.5.0",
      "_model_name": "HBoxModel",
      "_view_count": null,
      "_view_module": "@jupyter-widgets/controls",
      "_view_module_version": "1.5.0",
      "_view_name": "HBoxView",
      "box_style": "",
      "children": [
       "IPY_MODEL_f4d003109d434a969f98b586e9ada8ae",
       "IPY_MODEL_c30bf4c7df5a4c28a2aad764203c7fae",
       "IPY_MODEL_19a96819a1c24c248d169df90605c99f"
      ],
      "layout": "IPY_MODEL_86d0daeaa33a445f9ab295a416646ccc"
     }
    },
    "86d0daeaa33a445f9ab295a416646ccc": {
     "model_module": "@jupyter-widgets/base",
     "model_module_version": "1.2.0",
     "model_name": "LayoutModel",
     "state": {
      "_model_module": "@jupyter-widgets/base",
      "_model_module_version": "1.2.0",
      "_model_name": "LayoutModel",
      "_view_count": null,
      "_view_module": "@jupyter-widgets/base",
      "_view_module_version": "1.2.0",
      "_view_name": "LayoutView",
      "align_content": null,
      "align_items": null,
      "align_self": null,
      "border": null,
      "bottom": null,
      "display": null,
      "flex": null,
      "flex_flow": null,
      "grid_area": null,
      "grid_auto_columns": null,
      "grid_auto_flow": null,
      "grid_auto_rows": null,
      "grid_column": null,
      "grid_gap": null,
      "grid_row": null,
      "grid_template_areas": null,
      "grid_template_columns": null,
      "grid_template_rows": null,
      "height": null,
      "justify_content": null,
      "justify_items": null,
      "left": null,
      "margin": null,
      "max_height": null,
      "max_width": null,
      "min_height": null,
      "min_width": null,
      "object_fit": null,
      "object_position": null,
      "order": null,
      "overflow": null,
      "overflow_x": null,
      "overflow_y": null,
      "padding": null,
      "right": null,
      "top": null,
      "visibility": null,
      "width": null
     }
    },
    "89f1788e10174b21923b9b6684610955": {
     "model_module": "@jupyter-widgets/base",
     "model_module_version": "1.2.0",
     "model_name": "LayoutModel",
     "state": {
      "_model_module": "@jupyter-widgets/base",
      "_model_module_version": "1.2.0",
      "_model_name": "LayoutModel",
      "_view_count": null,
      "_view_module": "@jupyter-widgets/base",
      "_view_module_version": "1.2.0",
      "_view_name": "LayoutView",
      "align_content": null,
      "align_items": null,
      "align_self": null,
      "border": null,
      "bottom": null,
      "display": null,
      "flex": null,
      "flex_flow": null,
      "grid_area": null,
      "grid_auto_columns": null,
      "grid_auto_flow": null,
      "grid_auto_rows": null,
      "grid_column": null,
      "grid_gap": null,
      "grid_row": null,
      "grid_template_areas": null,
      "grid_template_columns": null,
      "grid_template_rows": null,
      "height": null,
      "justify_content": null,
      "justify_items": null,
      "left": null,
      "margin": null,
      "max_height": null,
      "max_width": null,
      "min_height": null,
      "min_width": null,
      "object_fit": null,
      "object_position": null,
      "order": null,
      "overflow": null,
      "overflow_x": null,
      "overflow_y": null,
      "padding": null,
      "right": null,
      "top": null,
      "visibility": null,
      "width": null
     }
    },
    "916e066ce39c4bbe84039d15e2530ac8": {
     "model_module": "@jupyter-widgets/controls",
     "model_module_version": "1.5.0",
     "model_name": "HTMLModel",
     "state": {
      "_dom_classes": [],
      "_model_module": "@jupyter-widgets/controls",
      "_model_module_version": "1.5.0",
      "_model_name": "HTMLModel",
      "_view_count": null,
      "_view_module": "@jupyter-widgets/controls",
      "_view_module_version": "1.5.0",
      "_view_name": "HTMLView",
      "description": "",
      "description_tooltip": null,
      "layout": "IPY_MODEL_24689b37013d48c783e88c76422b1f10",
      "placeholder": "​",
      "style": "IPY_MODEL_1441254eaa1a45f38e3d38f651a4c60d",
      "value": "config.json: 100%"
     }
    },
    "a4539d89a6974dab84d4e479c9e32f75": {
     "model_module": "@jupyter-widgets/base",
     "model_module_version": "1.2.0",
     "model_name": "LayoutModel",
     "state": {
      "_model_module": "@jupyter-widgets/base",
      "_model_module_version": "1.2.0",
      "_model_name": "LayoutModel",
      "_view_count": null,
      "_view_module": "@jupyter-widgets/base",
      "_view_module_version": "1.2.0",
      "_view_name": "LayoutView",
      "align_content": null,
      "align_items": null,
      "align_self": null,
      "border": null,
      "bottom": null,
      "display": null,
      "flex": null,
      "flex_flow": null,
      "grid_area": null,
      "grid_auto_columns": null,
      "grid_auto_flow": null,
      "grid_auto_rows": null,
      "grid_column": null,
      "grid_gap": null,
      "grid_row": null,
      "grid_template_areas": null,
      "grid_template_columns": null,
      "grid_template_rows": null,
      "height": null,
      "justify_content": null,
      "justify_items": null,
      "left": null,
      "margin": null,
      "max_height": null,
      "max_width": null,
      "min_height": null,
      "min_width": null,
      "object_fit": null,
      "object_position": null,
      "order": null,
      "overflow": null,
      "overflow_x": null,
      "overflow_y": null,
      "padding": null,
      "right": null,
      "top": null,
      "visibility": null,
      "width": null
     }
    },
    "a8c820109289409e87e918c74f867445": {
     "model_module": "@jupyter-widgets/controls",
     "model_module_version": "1.5.0",
     "model_name": "DescriptionStyleModel",
     "state": {
      "_model_module": "@jupyter-widgets/controls",
      "_model_module_version": "1.5.0",
      "_model_name": "DescriptionStyleModel",
      "_view_count": null,
      "_view_module": "@jupyter-widgets/base",
      "_view_module_version": "1.2.0",
      "_view_name": "StyleView",
      "description_width": ""
     }
    },
    "ad31ac2ed422429e8bbe876a9a04ef5d": {
     "model_module": "@jupyter-widgets/controls",
     "model_module_version": "1.5.0",
     "model_name": "HTMLModel",
     "state": {
      "_dom_classes": [],
      "_model_module": "@jupyter-widgets/controls",
      "_model_module_version": "1.5.0",
      "_model_name": "HTMLModel",
      "_view_count": null,
      "_view_module": "@jupyter-widgets/controls",
      "_view_module_version": "1.5.0",
      "_view_name": "HTMLView",
      "description": "",
      "description_tooltip": null,
      "layout": "IPY_MODEL_a4539d89a6974dab84d4e479c9e32f75",
      "placeholder": "​",
      "style": "IPY_MODEL_c784c2115b304d69b02a293d5fd0ba80",
      "value": "vocab.txt: 100%"
     }
    },
    "bb0b0d7b54be4aa5bda64de11f6ffed4": {
     "model_module": "@jupyter-widgets/base",
     "model_module_version": "1.2.0",
     "model_name": "LayoutModel",
     "state": {
      "_model_module": "@jupyter-widgets/base",
      "_model_module_version": "1.2.0",
      "_model_name": "LayoutModel",
      "_view_count": null,
      "_view_module": "@jupyter-widgets/base",
      "_view_module_version": "1.2.0",
      "_view_name": "LayoutView",
      "align_content": null,
      "align_items": null,
      "align_self": null,
      "border": null,
      "bottom": null,
      "display": null,
      "flex": null,
      "flex_flow": null,
      "grid_area": null,
      "grid_auto_columns": null,
      "grid_auto_flow": null,
      "grid_auto_rows": null,
      "grid_column": null,
      "grid_gap": null,
      "grid_row": null,
      "grid_template_areas": null,
      "grid_template_columns": null,
      "grid_template_rows": null,
      "height": null,
      "justify_content": null,
      "justify_items": null,
      "left": null,
      "margin": null,
      "max_height": null,
      "max_width": null,
      "min_height": null,
      "min_width": null,
      "object_fit": null,
      "object_position": null,
      "order": null,
      "overflow": null,
      "overflow_x": null,
      "overflow_y": null,
      "padding": null,
      "right": null,
      "top": null,
      "visibility": null,
      "width": null
     }
    },
    "bdb909c3895948e8a213cbbf988fd0f5": {
     "model_module": "@jupyter-widgets/controls",
     "model_module_version": "1.5.0",
     "model_name": "DescriptionStyleModel",
     "state": {
      "_model_module": "@jupyter-widgets/controls",
      "_model_module_version": "1.5.0",
      "_model_name": "DescriptionStyleModel",
      "_view_count": null,
      "_view_module": "@jupyter-widgets/base",
      "_view_module_version": "1.2.0",
      "_view_name": "StyleView",
      "description_width": ""
     }
    },
    "c0b36f69c255441b9ccc8e25ef587c39": {
     "model_module": "@jupyter-widgets/base",
     "model_module_version": "1.2.0",
     "model_name": "LayoutModel",
     "state": {
      "_model_module": "@jupyter-widgets/base",
      "_model_module_version": "1.2.0",
      "_model_name": "LayoutModel",
      "_view_count": null,
      "_view_module": "@jupyter-widgets/base",
      "_view_module_version": "1.2.0",
      "_view_name": "LayoutView",
      "align_content": null,
      "align_items": null,
      "align_self": null,
      "border": null,
      "bottom": null,
      "display": null,
      "flex": null,
      "flex_flow": null,
      "grid_area": null,
      "grid_auto_columns": null,
      "grid_auto_flow": null,
      "grid_auto_rows": null,
      "grid_column": null,
      "grid_gap": null,
      "grid_row": null,
      "grid_template_areas": null,
      "grid_template_columns": null,
      "grid_template_rows": null,
      "height": null,
      "justify_content": null,
      "justify_items": null,
      "left": null,
      "margin": null,
      "max_height": null,
      "max_width": null,
      "min_height": null,
      "min_width": null,
      "object_fit": null,
      "object_position": null,
      "order": null,
      "overflow": null,
      "overflow_x": null,
      "overflow_y": null,
      "padding": null,
      "right": null,
      "top": null,
      "visibility": null,
      "width": null
     }
    },
    "c30bf4c7df5a4c28a2aad764203c7fae": {
     "model_module": "@jupyter-widgets/controls",
     "model_module_version": "1.5.0",
     "model_name": "FloatProgressModel",
     "state": {
      "_dom_classes": [],
      "_model_module": "@jupyter-widgets/controls",
      "_model_module_version": "1.5.0",
      "_model_name": "FloatProgressModel",
      "_view_count": null,
      "_view_module": "@jupyter-widgets/controls",
      "_view_module_version": "1.5.0",
      "_view_name": "ProgressView",
      "bar_style": "success",
      "description": "",
      "description_tooltip": null,
      "layout": "IPY_MODEL_2585e8c4fe85406499e16cb81cce84dc",
      "max": 714290682,
      "min": 0,
      "orientation": "horizontal",
      "style": "IPY_MODEL_5276936f4ed349d5aa25625ec3d6058f",
      "value": 714290682
     }
    },
    "c6eaa412f4ec4ef4bf4b719a2ce9a8d4": {
     "model_module": "@jupyter-widgets/controls",
     "model_module_version": "1.5.0",
     "model_name": "DescriptionStyleModel",
     "state": {
      "_model_module": "@jupyter-widgets/controls",
      "_model_module_version": "1.5.0",
      "_model_name": "DescriptionStyleModel",
      "_view_count": null,
      "_view_module": "@jupyter-widgets/base",
      "_view_module_version": "1.2.0",
      "_view_name": "StyleView",
      "description_width": ""
     }
    },
    "c784c2115b304d69b02a293d5fd0ba80": {
     "model_module": "@jupyter-widgets/controls",
     "model_module_version": "1.5.0",
     "model_name": "DescriptionStyleModel",
     "state": {
      "_model_module": "@jupyter-widgets/controls",
      "_model_module_version": "1.5.0",
      "_model_name": "DescriptionStyleModel",
      "_view_count": null,
      "_view_module": "@jupyter-widgets/base",
      "_view_module_version": "1.2.0",
      "_view_name": "StyleView",
      "description_width": ""
     }
    },
    "cd46262ba7c248bdaa5d1fbdf7316799": {
     "model_module": "@jupyter-widgets/controls",
     "model_module_version": "1.5.0",
     "model_name": "FloatProgressModel",
     "state": {
      "_dom_classes": [],
      "_model_module": "@jupyter-widgets/controls",
      "_model_module_version": "1.5.0",
      "_model_name": "FloatProgressModel",
      "_view_count": null,
      "_view_module": "@jupyter-widgets/controls",
      "_view_module_version": "1.5.0",
      "_view_name": "ProgressView",
      "bar_style": "success",
      "description": "",
      "description_tooltip": null,
      "layout": "IPY_MODEL_f2fd83f8f6474094a7e05648bed8bda5",
      "max": 1961828,
      "min": 0,
      "orientation": "horizontal",
      "style": "IPY_MODEL_4f4b246c1b094495aa24827d64a76409",
      "value": 1961828
     }
    },
    "d482f07c992741079e3b3d68af6d8384": {
     "model_module": "@jupyter-widgets/controls",
     "model_module_version": "1.5.0",
     "model_name": "ProgressStyleModel",
     "state": {
      "_model_module": "@jupyter-widgets/controls",
      "_model_module_version": "1.5.0",
      "_model_name": "ProgressStyleModel",
      "_view_count": null,
      "_view_module": "@jupyter-widgets/base",
      "_view_module_version": "1.2.0",
      "_view_name": "StyleView",
      "bar_color": null,
      "description_width": ""
     }
    },
    "d764bd58664848e4bd665d86a6f5932d": {
     "model_module": "@jupyter-widgets/base",
     "model_module_version": "1.2.0",
     "model_name": "LayoutModel",
     "state": {
      "_model_module": "@jupyter-widgets/base",
      "_model_module_version": "1.2.0",
      "_model_name": "LayoutModel",
      "_view_count": null,
      "_view_module": "@jupyter-widgets/base",
      "_view_module_version": "1.2.0",
      "_view_name": "LayoutView",
      "align_content": null,
      "align_items": null,
      "align_self": null,
      "border": null,
      "bottom": null,
      "display": null,
      "flex": null,
      "flex_flow": null,
      "grid_area": null,
      "grid_auto_columns": null,
      "grid_auto_flow": null,
      "grid_auto_rows": null,
      "grid_column": null,
      "grid_gap": null,
      "grid_row": null,
      "grid_template_areas": null,
      "grid_template_columns": null,
      "grid_template_rows": null,
      "height": null,
      "justify_content": null,
      "justify_items": null,
      "left": null,
      "margin": null,
      "max_height": null,
      "max_width": null,
      "min_height": null,
      "min_width": null,
      "object_fit": null,
      "object_position": null,
      "order": null,
      "overflow": null,
      "overflow_x": null,
      "overflow_y": null,
      "padding": null,
      "right": null,
      "top": null,
      "visibility": null,
      "width": null
     }
    },
    "df2194ed52aa409f912c16a1c11bb8b8": {
     "model_module": "@jupyter-widgets/controls",
     "model_module_version": "1.5.0",
     "model_name": "DescriptionStyleModel",
     "state": {
      "_model_module": "@jupyter-widgets/controls",
      "_model_module_version": "1.5.0",
      "_model_name": "DescriptionStyleModel",
      "_view_count": null,
      "_view_module": "@jupyter-widgets/base",
      "_view_module_version": "1.2.0",
      "_view_name": "StyleView",
      "description_width": ""
     }
    },
    "e233e0d1b2b5437fb42120e1db25dba0": {
     "model_module": "@jupyter-widgets/controls",
     "model_module_version": "1.5.0",
     "model_name": "HBoxModel",
     "state": {
      "_dom_classes": [],
      "_model_module": "@jupyter-widgets/controls",
      "_model_module_version": "1.5.0",
      "_model_name": "HBoxModel",
      "_view_count": null,
      "_view_module": "@jupyter-widgets/controls",
      "_view_module_version": "1.5.0",
      "_view_name": "HBoxView",
      "box_style": "",
      "children": [
       "IPY_MODEL_eabdd034a8d34b5abf098e6317423503",
       "IPY_MODEL_cd46262ba7c248bdaa5d1fbdf7316799",
       "IPY_MODEL_6e6ab4f50d874d56b84c4506f44ee79b"
      ],
      "layout": "IPY_MODEL_40c27b10a41842038f69758728828dea"
     }
    },
    "e28e8139d9674091905f7dc3d51ec18e": {
     "model_module": "@jupyter-widgets/base",
     "model_module_version": "1.2.0",
     "model_name": "LayoutModel",
     "state": {
      "_model_module": "@jupyter-widgets/base",
      "_model_module_version": "1.2.0",
      "_model_name": "LayoutModel",
      "_view_count": null,
      "_view_module": "@jupyter-widgets/base",
      "_view_module_version": "1.2.0",
      "_view_name": "LayoutView",
      "align_content": null,
      "align_items": null,
      "align_self": null,
      "border": null,
      "bottom": null,
      "display": null,
      "flex": null,
      "flex_flow": null,
      "grid_area": null,
      "grid_auto_columns": null,
      "grid_auto_flow": null,
      "grid_auto_rows": null,
      "grid_column": null,
      "grid_gap": null,
      "grid_row": null,
      "grid_template_areas": null,
      "grid_template_columns": null,
      "grid_template_rows": null,
      "height": null,
      "justify_content": null,
      "justify_items": null,
      "left": null,
      "margin": null,
      "max_height": null,
      "max_width": null,
      "min_height": null,
      "min_width": null,
      "object_fit": null,
      "object_position": null,
      "order": null,
      "overflow": null,
      "overflow_x": null,
      "overflow_y": null,
      "padding": null,
      "right": null,
      "top": null,
      "visibility": null,
      "width": null
     }
    },
    "e3d84625e57c40558eee55a87a7563af": {
     "model_module": "@jupyter-widgets/controls",
     "model_module_version": "1.5.0",
     "model_name": "HTMLModel",
     "state": {
      "_dom_classes": [],
      "_model_module": "@jupyter-widgets/controls",
      "_model_module_version": "1.5.0",
      "_model_name": "HTMLModel",
      "_view_count": null,
      "_view_module": "@jupyter-widgets/controls",
      "_view_module_version": "1.5.0",
      "_view_name": "HTMLView",
      "description": "",
      "description_tooltip": null,
      "layout": "IPY_MODEL_ff25953e74d34e0d9d78472e4dd92948",
      "placeholder": "​",
      "style": "IPY_MODEL_a8c820109289409e87e918c74f867445",
      "value": " 625/625 [00:00&lt;00:00, 24.0kB/s]"
     }
    },
    "eabdd034a8d34b5abf098e6317423503": {
     "model_module": "@jupyter-widgets/controls",
     "model_module_version": "1.5.0",
     "model_name": "HTMLModel",
     "state": {
      "_dom_classes": [],
      "_model_module": "@jupyter-widgets/controls",
      "_model_module_version": "1.5.0",
      "_model_name": "HTMLModel",
      "_view_count": null,
      "_view_module": "@jupyter-widgets/controls",
      "_view_module_version": "1.5.0",
      "_view_name": "HTMLView",
      "description": "",
      "description_tooltip": null,
      "layout": "IPY_MODEL_89f1788e10174b21923b9b6684610955",
      "placeholder": "​",
      "style": "IPY_MODEL_bdb909c3895948e8a213cbbf988fd0f5",
      "value": "tokenizer.json: 100%"
     }
    },
    "f2fd83f8f6474094a7e05648bed8bda5": {
     "model_module": "@jupyter-widgets/base",
     "model_module_version": "1.2.0",
     "model_name": "LayoutModel",
     "state": {
      "_model_module": "@jupyter-widgets/base",
      "_model_module_version": "1.2.0",
      "_model_name": "LayoutModel",
      "_view_count": null,
      "_view_module": "@jupyter-widgets/base",
      "_view_module_version": "1.2.0",
      "_view_name": "LayoutView",
      "align_content": null,
      "align_items": null,
      "align_self": null,
      "border": null,
      "bottom": null,
      "display": null,
      "flex": null,
      "flex_flow": null,
      "grid_area": null,
      "grid_auto_columns": null,
      "grid_auto_flow": null,
      "grid_auto_rows": null,
      "grid_column": null,
      "grid_gap": null,
      "grid_row": null,
      "grid_template_areas": null,
      "grid_template_columns": null,
      "grid_template_rows": null,
      "height": null,
      "justify_content": null,
      "justify_items": null,
      "left": null,
      "margin": null,
      "max_height": null,
      "max_width": null,
      "min_height": null,
      "min_width": null,
      "object_fit": null,
      "object_position": null,
      "order": null,
      "overflow": null,
      "overflow_x": null,
      "overflow_y": null,
      "padding": null,
      "right": null,
      "top": null,
      "visibility": null,
      "width": null
     }
    },
    "f46c57b5937442ccb0f9b9b596be6883": {
     "model_module": "@jupyter-widgets/controls",
     "model_module_version": "1.5.0",
     "model_name": "ProgressStyleModel",
     "state": {
      "_model_module": "@jupyter-widgets/controls",
      "_model_module_version": "1.5.0",
      "_model_name": "ProgressStyleModel",
      "_view_count": null,
      "_view_module": "@jupyter-widgets/base",
      "_view_module_version": "1.2.0",
      "_view_name": "StyleView",
      "bar_color": null,
      "description_width": ""
     }
    },
    "f4d003109d434a969f98b586e9ada8ae": {
     "model_module": "@jupyter-widgets/controls",
     "model_module_version": "1.5.0",
     "model_name": "HTMLModel",
     "state": {
      "_dom_classes": [],
      "_model_module": "@jupyter-widgets/controls",
      "_model_module_version": "1.5.0",
      "_model_name": "HTMLModel",
      "_view_count": null,
      "_view_module": "@jupyter-widgets/controls",
      "_view_module_version": "1.5.0",
      "_view_name": "HTMLView",
      "description": "",
      "description_tooltip": null,
      "layout": "IPY_MODEL_822e9bb214d64b209fd65a038a918a36",
      "placeholder": "​",
      "style": "IPY_MODEL_0c3b61a37cad41e9bfcf03c1210eab84",
      "value": "model.safetensors: 100%"
     }
    },
    "f8dd1015016247f996c77afd5a171af2": {
     "model_module": "@jupyter-widgets/controls",
     "model_module_version": "1.5.0",
     "model_name": "HTMLModel",
     "state": {
      "_dom_classes": [],
      "_model_module": "@jupyter-widgets/controls",
      "_model_module_version": "1.5.0",
      "_model_name": "HTMLModel",
      "_view_count": null,
      "_view_module": "@jupyter-widgets/controls",
      "_view_module_version": "1.5.0",
      "_view_name": "HTMLView",
      "description": "",
      "description_tooltip": null,
      "layout": "IPY_MODEL_4f55bc70452d42638b388c245abf2411",
      "placeholder": "​",
      "style": "IPY_MODEL_673e56f2417f4a7b8e643e351f5d8f91",
      "value": " 49.0/49.0 [00:00&lt;00:00, 1.85kB/s]"
     }
    },
    "ff25953e74d34e0d9d78472e4dd92948": {
     "model_module": "@jupyter-widgets/base",
     "model_module_version": "1.2.0",
     "model_name": "LayoutModel",
     "state": {
      "_model_module": "@jupyter-widgets/base",
      "_model_module_version": "1.2.0",
      "_model_name": "LayoutModel",
      "_view_count": null,
      "_view_module": "@jupyter-widgets/base",
      "_view_module_version": "1.2.0",
      "_view_name": "LayoutView",
      "align_content": null,
      "align_items": null,
      "align_self": null,
      "border": null,
      "bottom": null,
      "display": null,
      "flex": null,
      "flex_flow": null,
      "grid_area": null,
      "grid_auto_columns": null,
      "grid_auto_flow": null,
      "grid_auto_rows": null,
      "grid_column": null,
      "grid_gap": null,
      "grid_row": null,
      "grid_template_areas": null,
      "grid_template_columns": null,
      "grid_template_rows": null,
      "height": null,
      "justify_content": null,
      "justify_items": null,
      "left": null,
      "margin": null,
      "max_height": null,
      "max_width": null,
      "min_height": null,
      "min_width": null,
      "object_fit": null,
      "object_position": null,
      "order": null,
      "overflow": null,
      "overflow_x": null,
      "overflow_y": null,
      "padding": null,
      "right": null,
      "top": null,
      "visibility": null,
      "width": null
     }
    }
   }
  }
 },
 "nbformat": 4,
 "nbformat_minor": 0
}
